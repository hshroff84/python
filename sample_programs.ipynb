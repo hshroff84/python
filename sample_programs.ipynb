{
  "nbformat": 4,
  "nbformat_minor": 0,
  "metadata": {
    "colab": {
      "provenance": [],
      "authorship_tag": "ABX9TyOWF/s7MbYr5JFRF6Z2ZwET",
      "include_colab_link": true
    },
    "kernelspec": {
      "name": "python3",
      "display_name": "Python 3"
    },
    "language_info": {
      "name": "python"
    }
  },
  "cells": [
    {
      "cell_type": "markdown",
      "metadata": {
        "id": "view-in-github",
        "colab_type": "text"
      },
      "source": [
        "<a href=\"https://colab.research.google.com/github/hshroff84/python/blob/master/sample_programs.ipynb\" target=\"_parent\"><img src=\"https://colab.research.google.com/assets/colab-badge.svg\" alt=\"Open In Colab\"/></a>"
      ]
    },
    {
      "cell_type": "code",
      "execution_count": 5,
      "metadata": {
        "colab": {
          "base_uri": "https://localhost:8080/"
        },
        "id": "vOgCGBjg4Z-i",
        "outputId": "e4ae3b97-fa72-4730-a938-d43346d22c9b"
      },
      "outputs": [
        {
          "output_type": "stream",
          "name": "stdout",
          "text": [
            "55\n"
          ]
        }
      ],
      "source": [
        "def first(n):\n",
        "    num = 1\n",
        "    sum = 0\n",
        "    while num < n + 1:\n",
        "        sum = sum + num\n",
        "        num = num + 1\n",
        "    return sum\n",
        "print(first(10))\n"
      ]
    },
    {
      "cell_type": "code",
      "source": [
        "def better(n):\n",
        "    sum = 0\n",
        "    for num in range(n + 1):\n",
        "        sum += num\n",
        "    return sum\n",
        "print(better(10))"
      ],
      "metadata": {
        "colab": {
          "base_uri": "https://localhost:8080/"
        },
        "id": "ZYKZjBx3-t_2",
        "outputId": "82a780f6-f125-4539-9195-94f31fac78c5"
      },
      "execution_count": 7,
      "outputs": [
        {
          "output_type": "stream",
          "name": "stdout",
          "text": [
            "55\n"
          ]
        }
      ]
    },
    {
      "cell_type": "code",
      "source": [
        "def even_better(n):\n",
        "    return sum(range(n + 1))\n",
        "print(even_better(3))"
      ],
      "metadata": {
        "colab": {
          "base_uri": "https://localhost:8080/"
        },
        "id": "4l6iznfs_Ite",
        "outputId": "1140e35e-ddd4-4c29-9ca0-78124aa52f2c"
      },
      "execution_count": 10,
      "outputs": [
        {
          "output_type": "stream",
          "name": "stdout",
          "text": [
            "6\n"
          ]
        }
      ]
    },
    {
      "cell_type": "code",
      "source": [
        "s=['apple','orange','kiwi','mango','grrapes','banana']\n",
        "for i in s:\n",
        "    if len(i)%2==0:\n",
        "        print(i)"
      ],
      "metadata": {
        "colab": {
          "base_uri": "https://localhost:8080/"
        },
        "id": "OPb7L6xUEc-L",
        "outputId": "b5c824ec-3cbb-49a9-a543-2d78d3e31667"
      },
      "execution_count": 11,
      "outputs": [
        {
          "output_type": "stream",
          "name": "stdout",
          "text": [
            "orange\n",
            "kiwi\n",
            "banana\n"
          ]
        }
      ]
    },
    {
      "cell_type": "markdown",
      "source": [],
      "metadata": {
        "id": "QKwW2gqv7eQ8"
      }
    }
  ]
}